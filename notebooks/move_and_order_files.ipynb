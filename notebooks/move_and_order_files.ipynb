{
 "cells": [
  {
   "cell_type": "code",
   "execution_count": 1,
   "metadata": {
    "collapsed": true
   },
   "outputs": [],
   "source": [
    "from pathlib import Path\n",
    "import shutil\n",
    "import os\n",
    "from datetime import datetime"
   ]
  },
  {
   "cell_type": "code",
   "execution_count": 2,
   "metadata": {
    "collapsed": false
   },
   "outputs": [],
   "source": [
    "p = Path(r'C:\\Users\\tdams\\Desktop\\traschcam_raw_images_2')"
   ]
  },
  {
   "cell_type": "code",
   "execution_count": 3,
   "metadata": {
    "collapsed": false
   },
   "outputs": [],
   "source": [
    "imgs = p.glob('**/*capture.jpg')"
   ]
  },
  {
   "cell_type": "code",
   "execution_count": 4,
   "metadata": {
    "collapsed": false
   },
   "outputs": [],
   "source": [
    "dest_folder = Path(r'C:\\trashcam_images2')\n",
    "\n",
    "# called by each thread\n",
    "def copy_file(src):\n",
    "    t = datetime.fromtimestamp(src.stat().st_mtime)\n",
    "    dst = dest_folder.joinpath('{:%Y%m%d}\\{:%H}\\{:%M%S}.jpg'.format(t,t,t))\n",
    "    try:\n",
    "        shutil.move(str(src),str(dst))\n",
    "    except FileNotFoundError:\n",
    "        os.makedirs(str(dst.parent))\n",
    "        shutil.move(str(src),str(dst))\n",
    "        \n",
    "from multiprocessing.dummy import Pool as ThreadPool \n",
    "pool = ThreadPool(4) \n",
    "results = pool.imap(copy_file, imgs)    \n",
    "    "
   ]
  }
 ],
 "metadata": {
  "kernelspec": {
   "display_name": "Python 3",
   "language": "python",
   "name": "python3"
  },
  "language_info": {
   "codemirror_mode": {
    "name": "ipython",
    "version": 3
   },
   "file_extension": ".py",
   "mimetype": "text/x-python",
   "name": "python",
   "nbconvert_exporter": "python",
   "pygments_lexer": "ipython3",
   "version": "3.5.2"
  }
 },
 "nbformat": 4,
 "nbformat_minor": 0
}
